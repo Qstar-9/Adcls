{
 "cells": [
  {
   "cell_type": "code",
   "execution_count": 1,
   "id": "fae32347",
   "metadata": {},
   "outputs": [],
   "source": [
    "import pandas as pd \n",
    "import numpy as np\n",
    "import os\n",
    "import random\n",
    "file=\"/home/renmengxing/audioRec/audio_data/train.csv\"\n",
    "audio_dir=\"/home/renmengxing/audioRec/audio_data/train\"\n",
    "df = pd.read_csv(file)\n"
   ]
  },
  {
   "cell_type": "code",
   "execution_count": null,
   "id": "62f32217",
   "metadata": {},
   "outputs": [],
   "source": [
    "label_counts_series = df['label'].value_counts()\n",
    "label_counts_dict = label_counts_series.to_dict()\n",
    "print(label_counts_dict,len(label_counts_dict))\n",
    "print(label_counts_dict.keys())\n",
    "# for label, count in label_counts_dict.items():\n"
   ]
  },
  {
   "cell_type": "code",
   "execution_count": null,
   "id": "3d7f6c12",
   "metadata": {},
   "outputs": [],
   "source": [
    "from IPython.display import Audio, display\n",
    "\n",
    "for index, data in df.iterrows(): # 使用 iterrows() 来正确地遍历 DataFrame\n",
    "    audio_name = data['fname']\n",
    "    audio_path = os.path.join(audio_dir, audio_name)\n",
    "    label = data['label']\n",
    "    print(audio_path, label)\n",
    "    display(Audio(audio_path, autoplay=False))\n",
    "    \n",
    "    break\n"
   ]
  },
  {
   "cell_type": "code",
   "execution_count": null,
   "id": "53ecb33b",
   "metadata": {},
   "outputs": [],
   "source": [
    "import pandas as pd\n",
    "import os\n",
    "from sklearn.model_selection import train_test_split\n",
    "\n",
    "# CSV 文件路径 (原始数据集)\n",
    "file=\"/home/renmengxing/audioRec/audio_data/train.csv\"\n",
    "\n",
    "# 你的音频文件所在的根目录\n",
    "# 请务必修改为你的音频文件所在的实际目录，该目录应包含 train.csv 中 fname 列指向的所有 .wav 文件\n",
    "audio_dir = \"/home/renmengxing/audioRec/audio_data/train/\" # <-- **请务必修改为你的音频文件目录**\n",
    "\n",
    "# 定义输出文件的路径\n",
    "output_dir = \"/home/renmengxing/audioRec/\" # 可以根据需要修改输出目录\n",
    "os.makedirs(output_dir, exist_ok=True) # 确保输出目录存在\n",
    "\n",
    "output_train_csv = os.path.join(output_dir, \"data_train.csv\")\n",
    "output_val_csv = os.path.join(output_dir, \"data_val.csv\") # 通常验证集命名为 val 或 validation\n",
    "\n",
    "print(\"正在加载数据集...\")\n",
    "try:\n",
    "    df = pd.read_csv(file)\n",
    "    df = df.dropna() # 清理数据，删除含有NaN值的行\n",
    "    print(f\"原始数据集大小: {len(df)} 条\")\n",
    "\n",
    "    # 为每个音频文件名构建绝对路径\n",
    "    df['absolute_audio_path'] = df['fname'].apply(lambda x: os.path.abspath(os.path.join(audio_dir, x)))\n",
    "\n",
    "    # 检查所有生成的路径是否存在\n",
    "    missing_files = [path for path in df['absolute_audio_path'] if not os.path.exists(path)]\n",
    "    if missing_files:\n",
    "        print(f\"\\n警告: 发现 {len(missing_files)} 个音频文件不存在于指定路径。\")\n",
    "        # 如果你想移除这些缺失文件的行，可以取消注释下面这行\n",
    "        # df = df[~df['absolute_audio_path'].isin(missing_files)]\n",
    "        # print(f\"已移除 {len(missing_files)} 条缺失文件的记录，剩余 {len(df)} 条。\")\n",
    "    else:\n",
    "        print(\"所有音频文件路径均已确认存在。\")\n",
    "\n",
    "    # 拆分数据集为训练集和验证集 (8:2 比例)\n",
    "    train_df, val_df = train_test_split(\n",
    "        df,\n",
    "        test_size=0.2,    # 20% 作为验证集\n",
    "        random_state=42,  # 设置随机种子，保证每次拆分结果一致\n",
    "        stratify=df['label'] # 按照标签进行分层抽样\n",
    "    )\n",
    "\n",
    "    print(f\"\\n数据集拆分完成：\")\n",
    "    print(f\"训练集大小: {len(train_df)} 条\")\n",
    "    print(f\"验证集大小: {len(val_df)} 条\")\n",
    "\n",
    "    # 将拆分后的 DataFrame 写入新的 CSV 文件\n",
    "    # index=False 避免将 DataFrame 的索引写入到 CSV 文件中\n",
    "    train_df.to_csv(output_train_csv, index=False)\n",
    "    val_df.to_csv(output_val_csv, index=False)\n",
    "\n",
    "    print(f\"\\n训练集已写入: {output_train_csv}\")\n",
    "    print(f\"验证集已写入: {output_val_csv}\")\n",
    "\n",
    "    print(\"\\n写入文件的示例内容 (训练集前5行):\")\n",
    "    # 为了验证，可以再次读取并打印部分内容\n",
    "    check_train_df = pd.read_csv(output_train_csv)\n",
    "    print(check_train_df.head())\n",
    "\n",
    "\n",
    "except FileNotFoundError:\n",
    "    print(f\"错误: CSV文件 '{file}' 未找到。请检查路径。\")\n",
    "except Exception as e:\n",
    "    print(f\"处理数据集或写入文件时发生错误: {e}\")"
   ]
  },
  {
   "cell_type": "code",
   "execution_count": null,
   "id": "b22cb3e5",
   "metadata": {},
   "outputs": [],
   "source": [
    "import os\n",
    "import pandas as pd\n",
    "\n",
    "# 定义包含测试音频文件的目录\n",
    "audio_dir = \"/home/renmengxing/audioRec/audio_data/test\" # <-- 请务必检查并确认这个路径正确\n",
    "\n",
    "# 定义输出 CSV 文件的路径和文件名\n",
    "# 假设你想把 test.csv 放在 /home/renmengxing/audioRec/ 目录下\n",
    "output_csv_path = \"/home/renmengxing/audioRec/test.csv\"\n",
    "\n",
    "# 用于存储文件名和绝对路径的列表\n",
    "file_data = []\n",
    "\n",
    "print(f\"正在扫描目录: {audio_dir} 查找 .wav 文件...\")\n",
    "\n",
    "# 检查音频目录是否存在\n",
    "if not os.path.exists(audio_dir):\n",
    "    print(f\"错误: 指定的音频目录 '{audio_dir}' 不存在。请检查路径。\")\n",
    "else:\n",
    "    # 遍历指定目录下的所有文件和子目录\n",
    "    for root, dirs, files in os.walk(audio_dir):\n",
    "        for file in files:\n",
    "            # 检查文件是否以 .wav 结尾（不区分大小写）\n",
    "            if file.lower().endswith(\".wav\"):\n",
    "                # 获取文件的绝对路径\n",
    "                absolute_path = os.path.abspath(os.path.join(root, file))\n",
    "                # 提取文件名 (不包含路径)\n",
    "                file_name = file\n",
    "                file_data.append({'fname': file_name, 'absolute_audio_path': absolute_path})\n",
    "                # print(f\"找到文件: {file_name} -> {absolute_path}\") # 可以取消注释这行来实时查看进度\n",
    "\n",
    "    if not file_data:\n",
    "        print(f\"在目录 '{audio_dir}' 中没有找到任何 .wav 文件。\")\n",
    "    else:\n",
    "        # 将收集到的数据转换为 DataFrame\n",
    "        test_df = pd.DataFrame(file_data)\n",
    "\n",
    "        # 将 DataFrame 写入 CSV 文件\n",
    "        # index=False 避免将 DataFrame 的索引写入到 CSV 文件中\n",
    "        test_df.to_csv(output_csv_path, index=False)\n",
    "\n",
    "        print(f\"\\n成功生成 test.csv 文件。\")\n",
    "        print(f\"文件位置: {output_csv_path}\")\n",
    "        print(f\"文件中包含 {len(test_df)} 条记录。\")\n",
    "\n",
    "        # 打印文件前几行以供预览\n",
    "        print(\"\\n生成文件的前5行内容:\")\n",
    "        print(test_df.head())"
   ]
  },
  {
   "cell_type": "code",
   "execution_count": null,
   "id": "e700b77c",
   "metadata": {},
   "outputs": [],
   "source": [
    "import csv\n",
    "import os\n",
    "\n",
    "# Define the input and output file paths\n",
    "input_csv_file = '/home/renmengxing/audioRec/audio_data/example.csv'\n",
    "output_text_file = 'text.txt'\n",
    "prefix = '/media/zhjk/audio_llm/rmx/funasr/AudioCLS/audio_data/test'\n",
    "\n",
    "def process_csv_and_generate_text_file(csv_path, output_path, prefix_str):\n",
    "    \"\"\"\n",
    "    Reads 'fname' from a CSV, adds a prefix, and writes to a text file.\n",
    "\n",
    "    Args:\n",
    "        csv_path (str): The path to the input CSV file.\n",
    "        output_path (str): The path to the output text file.\n",
    "        prefix_str (str): The prefix to add to each filename.\n",
    "    \"\"\"\n",
    "    processed_fnames = []\n",
    "    try:\n",
    "        with open(csv_path, mode='r', newline='', encoding='utf-8') as infile:\n",
    "            reader = csv.DictReader(infile) # Use DictReader to access columns by name\n",
    "            \n",
    "            # Check if 'fname' column exists\n",
    "            if 'fname' not in reader.fieldnames:\n",
    "                print(f\"Error: CSV file '{csv_path}' does not contain a column named 'fname'.\")\n",
    "                return\n",
    "\n",
    "            for row in reader:\n",
    "                original_fname = row['fname']\n",
    "                # Use os.path.join for robust path concatenation\n",
    "                full_path = os.path.join(prefix_str, original_fname)\n",
    "                processed_fnames.append(full_path)\n",
    "        \n",
    "        with open(output_path, mode='w', encoding='utf-8') as outfile:\n",
    "            for line in processed_fnames:\n",
    "                outfile.write(line + '\\n')\n",
    "        \n",
    "        print(f\"Successfully processed '{csv_path}' and generated '{output_path}'.\")\n",
    "        print(f\"Total lines written: {len(processed_fnames)}\")\n",
    "\n",
    "    except FileNotFoundError:\n",
    "        print(f\"Error: Input CSV file not found at '{csv_path}'\")\n",
    "    except Exception as e:\n",
    "        print(f\"An error occurred: {e}\")\n",
    "\n",
    "# Run the function\n",
    "process_csv_and_generate_text_file(input_csv_file, output_text_file, prefix)"
   ]
  },
  {
   "cell_type": "code",
   "execution_count": 4,
   "id": "9ca05a1f",
   "metadata": {},
   "outputs": [
    {
     "name": "stdout",
     "output_type": "stream",
     "text": [
      "正在计算音频时长，请稍候...\n"
     ]
    },
    {
     "name": "stderr",
     "output_type": "stream",
     "text": [
      "计算音频时长:   0%|          | 0/1598 [00:00<?, ?it/s]"
     ]
    },
    {
     "name": "stderr",
     "output_type": "stream",
     "text": [
      "计算音频时长: 100%|██████████| 1598/1598 [00:02<00:00, 538.91it/s]"
     ]
    },
    {
     "name": "stdout",
     "output_type": "stream",
     "text": [
      "\n",
      "时长计算完成！\n",
      "成功处理音频文件数量: 1598 / 1598\n",
      "最短音频时长: 0.30 秒\n",
      "最长音频时长: 29.74 秒\n",
      "音频时长已写入文件: /home/renmengxing/audioRec/audio_data/test_with_duration.csv\n"
     ]
    },
    {
     "name": "stderr",
     "output_type": "stream",
     "text": [
      "\n"
     ]
    }
   ],
   "source": [
    "from tqdm import tqdm\n",
    "import librosa\n",
    "\n",
    "\n",
    "import pandas as pd \n",
    "import numpy as np\n",
    "import os\n",
    "import random\n",
    "\n",
    "file=\"/home/renmengxing/audioRec/test.csv\"\n",
    "audio_dir=\"/home/renmengxing/audioRec/audio_data/test\"\n",
    "df = pd.read_csv(file)\n",
    "# df[:5]\n",
    "\n",
    "# 初始化最长和最短时长\n",
    "min_duration = float('inf')  # 初始化为无穷大，确保任何真实时长都会比它小\n",
    "max_duration = 0.0           # 初始化为0，确保任何真实时长都会比它大\n",
    "total_audio_count = 0\n",
    "processed_audio_count = 0\n",
    "\n",
    "print(\"正在计算音频时长，请稍候...\")\n",
    "\n",
    "# 添加一列来存储音频时长\n",
    "df['duration'] = 0.0\n",
    "\n",
    "# 使用 tqdm 包装 iterrows() 以显示进度条\n",
    "for index, row in tqdm(df.iterrows(), total=len(df), desc=\"计算音频时长\"):\n",
    "    audio_name = row['fname']\n",
    "    audio_path = os.path.join(audio_dir, audio_name)\n",
    "    \n",
    "    if not os.path.exists(audio_path):\n",
    "        print(f\"警告: 音频文件不存在，已跳过: {audio_path}\")\n",
    "        continue\n",
    "    \n",
    "    try:\n",
    "        # 加载音频，只读取其采样率和总样本数，避免加载整个波形到内存\n",
    "        # sr=None 表示使用音频文件的原始采样率\n",
    "        y, sr = librosa.load(audio_path, sr=None)\n",
    "        \n",
    "        # 计算音频时长（秒）\n",
    "        duration = librosa.get_duration(y=y, sr=sr)\n",
    "        \n",
    "        # 更新最长和最短时长\n",
    "        if duration < min_duration:\n",
    "            min_duration = duration\n",
    "        if duration > max_duration:\n",
    "            max_duration = duration\n",
    "            \n",
    "        # 将时长写入 DataFrame\n",
    "        df.at[index, 'duration'] = duration\n",
    "        \n",
    "        processed_audio_count += 1\n",
    "        \n",
    "    except Exception as e:\n",
    "        print(f\"处理音频 {audio_path} 时发生错误: {e}\")\n",
    "        continue\n",
    "\n",
    "print(\"\\n时长计算完成！\")\n",
    "print(f\"成功处理音频文件数量: {processed_audio_count} / {len(df)}\")\n",
    "\n",
    "if processed_audio_count > 0:\n",
    "    print(f\"最短音频时长: {min_duration:.2f} 秒\")\n",
    "    print(f\"最长音频时长: {max_duration:.2f} 秒\")\n",
    "else:\n",
    "    print(\"没有音频文件被成功处理。请检查 'df' 和 'audio_dir' 的设置以及文件是否存在。\")\n",
    "\n",
    "# 保存更新后的 DataFrame 到新的 CSV 文件\n",
    "output_file = \"/home/renmengxing/audioRec/audio_data/test_with_duration.csv\"\n",
    "df.to_csv(output_file, index=False)\n",
    "print(f\"音频时长已写入文件: {output_file}\")"
   ]
  },
  {
   "cell_type": "markdown",
   "id": "2b40683e",
   "metadata": {},
   "source": [
    "\n",
    "时长计算完成！\n",
    "成功处理音频文件数量: 9473 / 9473\n",
    "最短音频时长: 0.30 秒\n",
    "最长音频时长: 30.00 秒"
   ]
  },
  {
   "cell_type": "markdown",
   "id": "c241d4a1",
   "metadata": {},
   "source": []
  },
  {
   "cell_type": "code",
   "execution_count": 3,
   "id": "e092e088",
   "metadata": {},
   "outputs": [
    {
     "name": "stdout",
     "output_type": "stream",
     "text": [
      "Defaulting to user installation because normal site-packages is not writeable\n",
      "Looking in indexes: https://pypi.tuna.tsinghua.edu.cn/simple\n",
      "Requirement already satisfied: tqdm in /home/user/anaconda3/envs/rmx_llmner/lib/python3.11/site-packages (4.67.1)\n",
      "Note: you may need to restart the kernel to use updated packages.\n"
     ]
    }
   ],
   "source": [
    "pip install tqdm"
   ]
  },
  {
   "cell_type": "code",
   "execution_count": 5,
   "id": "aa89ffe5",
   "metadata": {},
   "outputs": [
    {
     "name": "stdout",
     "output_type": "stream",
     "text": [
      "121\n"
     ]
    }
   ],
   "source": [
    "print(121)"
   ]
  },
  {
   "cell_type": "code",
   "execution_count": null,
   "id": "304f7c29",
   "metadata": {},
   "outputs": [],
   "source": []
  }
 ],
 "metadata": {
  "kernelspec": {
   "display_name": "rmx_llmner",
   "language": "python",
   "name": "python3"
  },
  "language_info": {
   "codemirror_mode": {
    "name": "ipython",
    "version": 3
   },
   "file_extension": ".py",
   "mimetype": "text/x-python",
   "name": "python",
   "nbconvert_exporter": "python",
   "pygments_lexer": "ipython3",
   "version": "3.11.11"
  }
 },
 "nbformat": 4,
 "nbformat_minor": 5
}
